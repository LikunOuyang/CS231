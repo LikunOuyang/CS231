{
 "cells": [
  {
   "cell_type": "code",
   "execution_count": 1,
   "metadata": {
    "ExecuteTime": {
     "end_time": "2019-10-15T01:34:55.580294Z",
     "start_time": "2019-10-15T01:34:50.753430Z"
    }
   },
   "outputs": [
    {
     "name": "stdout",
     "output_type": "stream",
     "text": [
      "running build_ext\n",
      "building 'im2col_cython' extension\n",
      "creating build\n",
      "creating build\\temp.win-amd64-3.6\n",
      "creating build\\temp.win-amd64-3.6\\Release\n",
      "C:\\Program Files (x86)\\Microsoft Visual Studio\\2019\\Community\\VC\\Tools\\MSVC\\14.23.28105\\bin\\HostX86\\x64\\cl.exe /c /nologo /Ox /W3 /GL /DNDEBUG /MT -IC:\\Users\\Likun\\AppData\\Roaming\\Python\\Python36\\site-packages\\numpy\\core\\include -IC:\\ProgramData\\Anaconda3\\include -IC:\\ProgramData\\Anaconda3\\include \"-IC:\\Program Files (x86)\\Microsoft Visual Studio\\2019\\Community\\VC\\Tools\\MSVC\\14.23.28105\\ATLMFC\\include\" \"-IC:\\Program Files (x86)\\Microsoft Visual Studio\\2019\\Community\\VC\\Tools\\MSVC\\14.23.28105\\include\" \"-IC:\\Program Files (x86)\\Windows Kits\\NETFXSDK\\4.8\\include\\um\" \"-IC:\\Program Files (x86)\\Windows Kits\\10\\include\\10.0.18362.0\\ucrt\" \"-IC:\\Program Files (x86)\\Windows Kits\\10\\include\\10.0.18362.0\\shared\" \"-IC:\\Program Files (x86)\\Windows Kits\\10\\include\\10.0.18362.0\\um\" \"-IC:\\Program Files (x86)\\Windows Kits\\10\\include\\10.0.18362.0\\winrt\" \"-IC:\\Program Files (x86)\\Windows Kits\\10\\include\\10.0.18362.0\\cppwinrt\" /Tcim2col_cython.c /Fobuild\\temp.win-amd64-3.6\\Release\\im2col_cython.obj\n",
      "im2col_cython.c\n",
      "C:\\Users\\Likun\\AppData\\Roaming\\Python\\Python36\\site-packages\\numpy\\core\\include\\numpy\\npy_1_7_deprecated_api.h(14) : Warning Msg: Using deprecated NumPy API, disable it with #define NPY_NO_DEPRECATED_API NPY_1_7_API_VERSION\n",
      "im2col_cython.c(2954): warning C4244: '=': conversion from 'long' to 'char', possible loss of data\n",
      "im2col_cython.c(3332): warning C4244: '=': conversion from 'npy_intp' to 'int', possible loss of data\n",
      "im2col_cython.c(3341): warning C4244: '=': conversion from 'npy_intp' to 'int', possible loss of data\n",
      "im2col_cython.c(3350): warning C4244: '=': conversion from 'npy_intp' to 'int', possible loss of data\n",
      "im2col_cython.c(3359): warning C4244: '=': conversion from 'npy_intp' to 'int', possible loss of data\n",
      "im2col_cython.c(3816): warning C4244: '=': conversion from 'npy_intp' to 'int', possible loss of data\n",
      "im2col_cython.c(3825): warning C4244: '=': conversion from 'npy_intp' to 'int', possible loss of data\n",
      "im2col_cython.c(3834): warning C4244: '=': conversion from 'npy_intp' to 'int', possible loss of data\n",
      "im2col_cython.c(3843): warning C4244: '=': conversion from 'npy_intp' to 'int', possible loss of data\n",
      "im2col_cython.c(4849): warning C4244: '=': conversion from 'long' to 'char', possible loss of data\n",
      "im2col_cython.c(7106): warning C4244: '=': conversion from 'long' to 'char', possible loss of data\n",
      "im2col_cython.c(30045): warning C4244: 'initializing': conversion from 'double' to 'float', possible loss of data\n",
      "im2col_cython.c(30051): warning C4244: 'initializing': conversion from 'double' to 'float', possible loss of data\n",
      "C:\\Program Files (x86)\\Microsoft Visual Studio\\2019\\Community\\VC\\Tools\\MSVC\\14.23.28105\\bin\\HostX86\\x64\\link.exe /nologo /INCREMENTAL:NO /LTCG /nodefaultlib:libucrt.lib ucrt.lib /DLL /MANIFEST:EMBED,ID=2 /MANIFESTUAC:NO /LIBPATH:C:\\ProgramData\\Anaconda3\\libs /LIBPATH:C:\\ProgramData\\Anaconda3\\PCbuild\\amd64 \"/LIBPATH:C:\\Program Files (x86)\\Microsoft Visual Studio\\2019\\Community\\VC\\Tools\\MSVC\\14.23.28105\\ATLMFC\\lib\\x64\" \"/LIBPATH:C:\\Program Files (x86)\\Microsoft Visual Studio\\2019\\Community\\VC\\Tools\\MSVC\\14.23.28105\\lib\\x64\" \"/LIBPATH:C:\\Program Files (x86)\\Windows Kits\\NETFXSDK\\4.8\\lib\\um\\x64\" \"/LIBPATH:C:\\Program Files (x86)\\Windows Kits\\10\\lib\\10.0.18362.0\\ucrt\\x64\" \"/LIBPATH:C:\\Program Files (x86)\\Windows Kits\\10\\lib\\10.0.18362.0\\um\\x64\" /EXPORT:PyInit_im2col_cython build\\temp.win-amd64-3.6\\Release\\im2col_cython.obj \"/OUT:C:\\Users\\Likun\\OneDrive - The City University of New York\\CS231n\\spring1819_assignment2\\assignment2\\cs231n\\im2col_cython.cp36-win_amd64.pyd\" /IMPLIB:build\\temp.win-amd64-3.6\\Release\\im2col_cython.cp36-win_amd64.lib\n",
      "   Creating library build\\temp.win-amd64-3.6\\Release\\im2col_cython.cp36-win_amd64.lib and object build\\temp.win-amd64-3.6\\Release\\im2col_cython.cp36-win_amd64.exp\n",
      "Generating code\n",
      "Finished generating code\n"
     ]
    }
   ],
   "source": [
    "!python setup.py build_ext --inplace"
   ]
  }
 ],
 "metadata": {
  "hide_input": false,
  "kernelspec": {
   "display_name": "Python 3",
   "language": "python",
   "name": "python3"
  },
  "language_info": {
   "codemirror_mode": {
    "name": "ipython",
    "version": 3
   },
   "file_extension": ".py",
   "mimetype": "text/x-python",
   "name": "python",
   "nbconvert_exporter": "python",
   "pygments_lexer": "ipython3",
   "version": "3.6.5"
  },
  "latex_envs": {
   "LaTeX_envs_menu_present": true,
   "autoclose": false,
   "autocomplete": true,
   "bibliofile": "biblio.bib",
   "cite_by": "apalike",
   "current_citInitial": 1,
   "eqLabelWithNumbers": true,
   "eqNumInitial": 1,
   "hotkeys": {
    "equation": "Ctrl-E",
    "itemize": "Ctrl-I"
   },
   "labels_anchors": false,
   "latex_user_defs": false,
   "report_style_numbering": false,
   "user_envs_cfg": false
  },
  "toc": {
   "base_numbering": 1,
   "nav_menu": {},
   "number_sections": true,
   "sideBar": true,
   "skip_h1_title": false,
   "title_cell": "Table of Contents",
   "title_sidebar": "Contents",
   "toc_cell": false,
   "toc_position": {},
   "toc_section_display": true,
   "toc_window_display": false
  },
  "varInspector": {
   "cols": {
    "lenName": 16,
    "lenType": 16,
    "lenVar": 40
   },
   "kernels_config": {
    "python": {
     "delete_cmd_postfix": "",
     "delete_cmd_prefix": "del ",
     "library": "var_list.py",
     "varRefreshCmd": "print(var_dic_list())"
    },
    "r": {
     "delete_cmd_postfix": ") ",
     "delete_cmd_prefix": "rm(",
     "library": "var_list.r",
     "varRefreshCmd": "cat(var_dic_list()) "
    }
   },
   "types_to_exclude": [
    "module",
    "function",
    "builtin_function_or_method",
    "instance",
    "_Feature"
   ],
   "window_display": false
  }
 },
 "nbformat": 4,
 "nbformat_minor": 2
}

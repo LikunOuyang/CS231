{
 "cells": [
  {
   "cell_type": "markdown",
   "metadata": {
    "tags": [
     "pdf-title"
    ]
   },
   "source": [
    "# Softmax exercise\n",
    "\n",
    "*Complete and hand in this completed worksheet (including its outputs and any supporting code outside of the worksheet) with your assignment submission. For more details see the [assignments page](http://vision.stanford.edu/teaching/cs231n/assignments.html) on the course website.*\n",
    "\n",
    "This exercise is analogous to the SVM exercise. You will:\n",
    "\n",
    "- implement a fully-vectorized **loss function** for the Softmax classifier\n",
    "- implement the fully-vectorized expression for its **analytic gradient**\n",
    "- **check your implementation** with numerical gradient\n",
    "- use a validation set to **tune the learning rate and regularization** strength\n",
    "- **optimize** the loss function with **SGD**\n",
    "- **visualize** the final learned weights\n"
   ]
  },
  {
   "cell_type": "code",
   "execution_count": 1,
   "metadata": {
    "ExecuteTime": {
     "end_time": "2019-09-26T23:57:37.838628Z",
     "start_time": "2019-09-26T23:57:34.153978Z"
    },
    "tags": [
     "pdf-ignore"
    ]
   },
   "outputs": [],
   "source": [
    "import random\n",
    "import numpy as np\n",
    "from cs231n.data_utils import load_CIFAR10\n",
    "import matplotlib.pyplot as plt\n",
    "\n",
    "%matplotlib inline\n",
    "plt.rcParams['figure.figsize'] = (10.0, 8.0) # set default size of plots\n",
    "plt.rcParams['image.interpolation'] = 'nearest'\n",
    "plt.rcParams['image.cmap'] = 'gray'\n",
    "\n",
    "# for auto-reloading extenrnal modules\n",
    "# see http://stackoverflow.com/questions/1907993/autoreload-of-modules-in-ipython\n",
    "%load_ext autoreload\n",
    "%autoreload 2"
   ]
  },
  {
   "cell_type": "code",
   "execution_count": 2,
   "metadata": {
    "ExecuteTime": {
     "end_time": "2019-09-26T23:57:41.355368Z",
     "start_time": "2019-09-26T23:57:37.898680Z"
    },
    "tags": [
     "pdf-ignore"
    ]
   },
   "outputs": [
    {
     "name": "stdout",
     "output_type": "stream",
     "text": [
      "Train data shape:  (49000, 3073)\n",
      "Train labels shape:  (49000,)\n",
      "Validation data shape:  (1000, 3073)\n",
      "Validation labels shape:  (1000,)\n",
      "Test data shape:  (1000, 3073)\n",
      "Test labels shape:  (1000,)\n",
      "dev data shape:  (500, 3073)\n",
      "dev labels shape:  (500,)\n"
     ]
    }
   ],
   "source": [
    "def get_CIFAR10_data(num_training=49000, num_validation=1000, num_test=1000, num_dev=500):\n",
    "    \"\"\"\n",
    "    Load the CIFAR-10 dataset from disk and perform preprocessing to prepare\n",
    "    it for the linear classifier. These are the same steps as we used for the\n",
    "    SVM, but condensed to a single function.  \n",
    "    \"\"\"\n",
    "    # Load the raw CIFAR-10 data\n",
    "    cifar10_dir = 'cs231n/datasets/cifar-10-batches-py'\n",
    "    \n",
    "    # Cleaning up variables to prevent loading data multiple times (which may cause memory issue)\n",
    "    try:\n",
    "       del X_train, y_train\n",
    "       del X_test, y_test\n",
    "       print('Clear previously loaded data.')\n",
    "    except:\n",
    "       pass\n",
    "\n",
    "    X_train, y_train, X_test, y_test = load_CIFAR10(cifar10_dir)\n",
    "    \n",
    "    # subsample the data\n",
    "    mask = list(range(num_training, num_training + num_validation))\n",
    "    X_val = X_train[mask]\n",
    "    y_val = y_train[mask]\n",
    "    mask = list(range(num_training))\n",
    "    X_train = X_train[mask]\n",
    "    y_train = y_train[mask]\n",
    "    mask = list(range(num_test))\n",
    "    X_test = X_test[mask]\n",
    "    y_test = y_test[mask]\n",
    "    mask = np.random.choice(num_training, num_dev, replace=False)\n",
    "    X_dev = X_train[mask]\n",
    "    y_dev = y_train[mask]\n",
    "    \n",
    "    # Preprocessing: reshape the image data into rows\n",
    "    X_train = np.reshape(X_train, (X_train.shape[0], -1))\n",
    "    X_val = np.reshape(X_val, (X_val.shape[0], -1))\n",
    "    X_test = np.reshape(X_test, (X_test.shape[0], -1))\n",
    "    X_dev = np.reshape(X_dev, (X_dev.shape[0], -1))\n",
    "    \n",
    "    # Normalize the data: subtract the mean image\n",
    "    mean_image = np.mean(X_train, axis = 0)\n",
    "    X_train -= mean_image\n",
    "    X_val -= mean_image\n",
    "    X_test -= mean_image\n",
    "    X_dev -= mean_image\n",
    "    \n",
    "    # add bias dimension and transform into columns\n",
    "    X_train = np.hstack([X_train, np.ones((X_train.shape[0], 1))])\n",
    "    X_val = np.hstack([X_val, np.ones((X_val.shape[0], 1))])\n",
    "    X_test = np.hstack([X_test, np.ones((X_test.shape[0], 1))])\n",
    "    X_dev = np.hstack([X_dev, np.ones((X_dev.shape[0], 1))])\n",
    "    \n",
    "    return X_train, y_train, X_val, y_val, X_test, y_test, X_dev, y_dev\n",
    "\n",
    "\n",
    "# Invoke the above function to get our data.\n",
    "X_train, y_train, X_val, y_val, X_test, y_test, X_dev, y_dev = get_CIFAR10_data()\n",
    "print('Train data shape: ', X_train.shape)\n",
    "print('Train labels shape: ', y_train.shape)\n",
    "print('Validation data shape: ', X_val.shape)\n",
    "print('Validation labels shape: ', y_val.shape)\n",
    "print('Test data shape: ', X_test.shape)\n",
    "print('Test labels shape: ', y_test.shape)\n",
    "print('dev data shape: ', X_dev.shape)\n",
    "print('dev labels shape: ', y_dev.shape)"
   ]
  },
  {
   "cell_type": "markdown",
   "metadata": {},
   "source": [
    "## Softmax Classifier\n",
    "\n",
    "Your code for this section will all be written inside **cs231n/classifiers/softmax.py**. \n"
   ]
  },
  {
   "cell_type": "code",
   "execution_count": 41,
   "metadata": {
    "ExecuteTime": {
     "end_time": "2019-09-27T01:17:34.137558Z",
     "start_time": "2019-09-27T01:17:33.984116Z"
    }
   },
   "outputs": [
    {
     "name": "stdout",
     "output_type": "stream",
     "text": [
      "loss: 2.321799\n",
      "sanity check: 2.302585\n"
     ]
    }
   ],
   "source": [
    "# First implement the naive softmax loss function with nested loops.\n",
    "# Open the file cs231n/classifiers/softmax.py and implement the\n",
    "# softmax_loss_naive function.\n",
    "\n",
    "from cs231n.classifiers.softmax import softmax_loss_naive\n",
    "import time\n",
    "\n",
    "# Generate a random softmax weight matrix and use it to compute the loss.\n",
    "W = np.random.randn(3073, 10) * 0.0001\n",
    "loss, grad = softmax_loss_naive(W, X_dev, y_dev, 0.0)\n",
    "\n",
    "# As a rough sanity check, our loss should be something close to -log(0.1).\n",
    "print('loss: %f' % loss)\n",
    "print('sanity check: %f' % (-np.log(0.1)))"
   ]
  },
  {
   "cell_type": "markdown",
   "metadata": {
    "tags": [
     "pdf-inline"
    ]
   },
   "source": [
    "**Inline Question 1**\n",
    "\n",
    "Why do we expect our loss to be close to -log(0.1)? Explain briefly.**\n",
    "\n",
    "$\\color{blue}{\\textit Your Answer:}$ \n",
    "\n",
    "- Because we have ten classes, the probability of a random guess is correct is 1/10, so the expected loss is close to -log(0.1) as our W is random genereted and not trained for a single batch\n",
    "\n"
   ]
  },
  {
   "cell_type": "code",
   "execution_count": 50,
   "metadata": {
    "ExecuteTime": {
     "end_time": "2019-09-27T01:38:49.627940Z",
     "start_time": "2019-09-27T01:38:44.619915Z"
    }
   },
   "outputs": [
    {
     "name": "stdout",
     "output_type": "stream",
     "text": [
      "numerical: -0.742270 analytic: -0.742270, relative error: 5.052800e-08\n",
      "numerical: -0.128980 analytic: -0.128980, relative error: 2.704444e-07\n",
      "numerical: -1.521775 analytic: -1.521775, relative error: 7.454743e-09\n",
      "numerical: 0.611820 analytic: 0.611820, relative error: 2.980631e-08\n",
      "numerical: 1.658467 analytic: 1.658467, relative error: 1.568928e-08\n",
      "numerical: -1.042198 analytic: -1.042198, relative error: 1.698285e-08\n",
      "numerical: -0.132542 analytic: -0.132542, relative error: 2.198882e-07\n",
      "numerical: 2.978975 analytic: 2.978975, relative error: 2.201444e-08\n",
      "numerical: 0.134219 analytic: 0.134219, relative error: 5.412030e-08\n",
      "numerical: 2.560842 analytic: 2.560842, relative error: 6.222006e-09\n",
      "numerical: 0.866815 analytic: 0.866815, relative error: 3.248587e-08\n",
      "numerical: 1.017180 analytic: 1.017180, relative error: 9.681837e-08\n",
      "numerical: -0.670211 analytic: -0.670211, relative error: 8.385727e-08\n",
      "numerical: 0.369529 analytic: 0.369529, relative error: 1.422787e-07\n",
      "numerical: -1.992638 analytic: -1.992638, relative error: 1.652748e-08\n",
      "numerical: -1.851052 analytic: -1.851052, relative error: 7.035144e-09\n",
      "numerical: -1.502845 analytic: -1.502845, relative error: 2.024438e-08\n",
      "numerical: 0.279714 analytic: 0.279714, relative error: 1.124481e-07\n",
      "numerical: -3.033049 analytic: -3.033050, relative error: 2.792475e-08\n",
      "numerical: 0.046173 analytic: 0.046173, relative error: 1.237112e-06\n"
     ]
    }
   ],
   "source": [
    "# Complete the implementation of softmax_loss_naive and implement a (naive)\n",
    "# version of the gradient that uses nested loops.\n",
    "loss, grad = softmax_loss_naive(W, X_dev, y_dev, 0.0)\n",
    "\n",
    "# As we did for the SVM, use numeric gradient checking as a debugging tool.\n",
    "# The numeric gradient should be close to the analytic gradient.\n",
    "from cs231n.gradient_check import grad_check_sparse\n",
    "f = lambda w: softmax_loss_naive(w, X_dev, y_dev, 0.0)[0]\n",
    "grad_numerical = grad_check_sparse(f, W, grad, 10)\n",
    "\n",
    "# similar to SVM case, do another gradient check with regularization\n",
    "loss, grad = softmax_loss_naive(W, X_dev, y_dev, 5e1)\n",
    "f = lambda w: softmax_loss_naive(w, X_dev, y_dev, 5e1)[0]\n",
    "grad_numerical = grad_check_sparse(f, W, grad, 10)"
   ]
  },
  {
   "cell_type": "code",
   "execution_count": 54,
   "metadata": {
    "ExecuteTime": {
     "end_time": "2019-09-27T01:40:01.171468Z",
     "start_time": "2019-09-27T01:40:01.138584Z"
    }
   },
   "outputs": [
    {
     "data": {
      "text/plain": [
       "(3073,)"
      ]
     },
     "execution_count": 54,
     "metadata": {},
     "output_type": "execute_result"
    }
   ],
   "source": [
    "np.array([1]*3073).shape"
   ]
  },
  {
   "cell_type": "code",
   "execution_count": 57,
   "metadata": {
    "ExecuteTime": {
     "end_time": "2019-09-27T01:40:24.487411Z",
     "start_time": "2019-09-27T01:40:24.454501Z"
    }
   },
   "outputs": [
    {
     "data": {
      "text/plain": [
       "array([[0.99991443, 0.99997067, 0.9999759 , ..., 1.00001261, 0.99981327,\n",
       "        0.99988947],\n",
       "       [1.00002331, 0.99987296, 0.99999029, ..., 0.9998465 , 0.9998393 ,\n",
       "        1.00001163],\n",
       "       [0.99995854, 1.00007891, 0.99995442, ..., 0.99991377, 0.99994684,\n",
       "        1.00010414],\n",
       "       ...,\n",
       "       [0.99991266, 0.99990805, 1.00000455, ..., 1.00019717, 1.00008601,\n",
       "        0.99975269],\n",
       "       [1.00003282, 1.00003609, 1.0001289 , ..., 0.99997879, 1.00003815,\n",
       "        0.99981093],\n",
       "       [1.00001265, 0.9999499 , 1.00003235, ..., 1.00004364, 0.99992855,\n",
       "        0.99998743]])"
      ]
     },
     "execution_count": 57,
     "metadata": {},
     "output_type": "execute_result"
    }
   ],
   "source": [
    "W+np.array([1]*3073).reshape(-1,1)"
   ]
  },
  {
   "cell_type": "code",
   "execution_count": 61,
   "metadata": {
    "ExecuteTime": {
     "end_time": "2019-09-27T01:41:51.029437Z",
     "start_time": "2019-09-27T01:41:50.839809Z"
    }
   },
   "outputs": [
    {
     "name": "stdout",
     "output_type": "stream",
     "text": [
      "naive loss: 2.321799e+00 computed in 0.121675s\n",
      "vectorized loss: 2.321799e+00 computed in 0.010999s\n",
      "Loss difference: 0.000000\n",
      "Gradient difference: 0.000000\n"
     ]
    }
   ],
   "source": [
    "# Now that we have a naive implementation of the softmax loss function and its gradient,\n",
    "# implement a vectorized version in softmax_loss_vectorized.\n",
    "# The two versions should compute the same results, but the vectorized version should be\n",
    "# much faster.\n",
    "tic = time.time()\n",
    "loss_naive, grad_naive = softmax_loss_naive(W, X_dev, y_dev, 0.000005)\n",
    "toc = time.time()\n",
    "print('naive loss: %e computed in %fs' % (loss_naive, toc - tic))\n",
    "\n",
    "from cs231n.classifiers.softmax import softmax_loss_vectorized\n",
    "tic = time.time()\n",
    "loss_vectorized, grad_vectorized = softmax_loss_vectorized(W, X_dev, y_dev, 0.000005)\n",
    "toc = time.time()\n",
    "print('vectorized loss: %e computed in %fs' % (loss_vectorized, toc - tic))\n",
    "\n",
    "# As we did for the SVM, we use the Frobenius norm to compare the two versions\n",
    "# of the gradient.\n",
    "grad_difference = np.linalg.norm(grad_naive - grad_vectorized, ord='fro')\n",
    "print('Loss difference: %f' % np.abs(loss_naive - loss_vectorized))\n",
    "print('Gradient difference: %f' % grad_difference)"
   ]
  },
  {
   "cell_type": "code",
   "execution_count": 68,
   "metadata": {
    "ExecuteTime": {
     "end_time": "2019-09-27T01:55:18.626851Z",
     "start_time": "2019-09-27T01:54:27.253415Z"
    },
    "tags": [
     "code"
    ]
   },
   "outputs": [
    {
     "name": "stdout",
     "output_type": "stream",
     "text": [
      "iteration 0 / 2000: loss 317.683328\n",
      "iteration 100 / 2000: loss 210.910703\n",
      "iteration 200 / 2000: loss 141.767388\n",
      "iteration 300 / 2000: loss 95.337554\n",
      "iteration 400 / 2000: loss 64.529865\n",
      "iteration 500 / 2000: loss 43.577381\n",
      "iteration 600 / 2000: loss 29.810091\n",
      "iteration 700 / 2000: loss 20.664326\n",
      "iteration 800 / 2000: loss 14.469404\n",
      "iteration 900 / 2000: loss 10.312255\n",
      "iteration 1000 / 2000: loss 7.630919\n",
      "iteration 1100 / 2000: loss 5.801497\n",
      "iteration 1200 / 2000: loss 4.562203\n",
      "iteration 1300 / 2000: loss 3.666296\n",
      "iteration 1400 / 2000: loss 3.106244\n",
      "iteration 1500 / 2000: loss 2.760740\n",
      "iteration 1600 / 2000: loss 2.500543\n",
      "iteration 1700 / 2000: loss 2.328429\n",
      "iteration 1800 / 2000: loss 2.245036\n",
      "iteration 1900 / 2000: loss 2.147341\n",
      "iteration 0 / 2000: loss 618.507807\n",
      "iteration 100 / 2000: loss 277.239420\n",
      "iteration 200 / 2000: loss 124.981201\n",
      "iteration 300 / 2000: loss 57.099382\n",
      "iteration 400 / 2000: loss 26.679886\n",
      "iteration 500 / 2000: loss 13.117323\n",
      "iteration 600 / 2000: loss 6.957850\n",
      "iteration 700 / 2000: loss 4.283888\n",
      "iteration 800 / 2000: loss 3.050868\n",
      "iteration 900 / 2000: loss 2.522932\n",
      "iteration 1000 / 2000: loss 2.274297\n",
      "iteration 1100 / 2000: loss 2.148757\n",
      "iteration 1200 / 2000: loss 2.113672\n",
      "iteration 1300 / 2000: loss 2.027347\n",
      "iteration 1400 / 2000: loss 2.065361\n",
      "iteration 1500 / 2000: loss 2.001985\n",
      "iteration 1600 / 2000: loss 2.033365\n",
      "iteration 1700 / 2000: loss 2.079955\n",
      "iteration 1800 / 2000: loss 2.028981\n",
      "iteration 1900 / 2000: loss 2.067978\n",
      "iteration 0 / 2000: loss 315.808567\n",
      "iteration 100 / 2000: loss 140.967419\n",
      "iteration 200 / 2000: loss 64.016633\n",
      "iteration 300 / 2000: loss 29.679986\n",
      "iteration 400 / 2000: loss 14.503152\n",
      "iteration 500 / 2000: loss 7.514906\n",
      "iteration 600 / 2000: loss 4.506564\n",
      "iteration 700 / 2000: loss 3.041803\n",
      "iteration 800 / 2000: loss 2.482689\n",
      "iteration 900 / 2000: loss 2.194460\n",
      "iteration 1000 / 2000: loss 2.117731\n",
      "iteration 1100 / 2000: loss 2.066623\n",
      "iteration 1200 / 2000: loss 2.000459\n",
      "iteration 1300 / 2000: loss 2.006869\n",
      "iteration 1400 / 2000: loss 1.926361\n",
      "iteration 1500 / 2000: loss 2.034971\n",
      "iteration 1600 / 2000: loss 1.985546\n",
      "iteration 1700 / 2000: loss 1.994900\n",
      "iteration 1800 / 2000: loss 1.977985\n",
      "iteration 1900 / 2000: loss 2.157132\n",
      "iteration 0 / 2000: loss 623.565394\n",
      "iteration 100 / 2000: loss 125.470545\n",
      "iteration 200 / 2000: loss 26.700169\n",
      "iteration 300 / 2000: loss 7.036953\n",
      "iteration 400 / 2000: loss 3.068405\n",
      "iteration 500 / 2000: loss 2.370144\n",
      "iteration 600 / 2000: loss 2.090007\n",
      "iteration 700 / 2000: loss 2.028968\n",
      "iteration 800 / 2000: loss 2.059893\n",
      "iteration 900 / 2000: loss 2.073879\n",
      "iteration 1000 / 2000: loss 2.100725\n",
      "iteration 1100 / 2000: loss 2.068684\n",
      "iteration 1200 / 2000: loss 2.106489\n",
      "iteration 1300 / 2000: loss 2.101544\n",
      "iteration 1400 / 2000: loss 2.093037\n",
      "iteration 1500 / 2000: loss 2.023969\n",
      "iteration 1600 / 2000: loss 2.043754\n",
      "iteration 1700 / 2000: loss 2.060419\n",
      "iteration 1800 / 2000: loss 2.035912\n",
      "iteration 1900 / 2000: loss 2.085359\n",
      "lr 1.000000e-07 reg 1.000000e+04 train accuracy: 0.360163 val accuracy: 0.370000\n",
      "lr 1.000000e-07 reg 2.000000e+04 train accuracy: 0.337286 val accuracy: 0.353000\n",
      "lr 2.000000e-07 reg 1.000000e+04 train accuracy: 0.351082 val accuracy: 0.367000\n",
      "lr 2.000000e-07 reg 2.000000e+04 train accuracy: 0.334204 val accuracy: 0.352000\n",
      "best validation accuracy achieved during cross-validation: 0.370000\n"
     ]
    }
   ],
   "source": [
    "# Use the validation set to tune hyperparameters (regularization strength and\n",
    "# learning rate). You should experiment with different ranges for the learning\n",
    "# rates and regularization strengths; if you are careful you should be able to\n",
    "# get a classification accuracy of over 0.35 on the validation set.\n",
    "from cs231n.classifiers import Softmax\n",
    "results = {}\n",
    "best_val = -1\n",
    "best_softmax = None\n",
    "learning_rates = [1e-7, 2e-7]\n",
    "regularization_strengths = [1e4, 2e4]\n",
    "\n",
    "################################################################################\n",
    "# TODO:                                                                        #\n",
    "# Use the validation set to set the learning rate and regularization strength. #\n",
    "# This should be identical to the validation that you did for the SVM; save    #\n",
    "# the best trained softmax classifer in best_softmax.                          #\n",
    "################################################################################\n",
    "# *****START OF YOUR CODE (DO NOT DELETE/MODIFY THIS LINE)*****\n",
    "\n",
    "for alpha in learning_rates:\n",
    "    for lamba in regularization_strengths:\n",
    "        softmax = Softmax()\n",
    "        _ = softmax.train(X_train, y_train, learning_rate=alpha, reg=lamba,\n",
    "                              num_iters=2000, verbose=True)\n",
    "        y_train_pred = softmax.predict(X_train)\n",
    "        y_val_pred = softmax.predict(X_val)\n",
    "        val_acc = np.mean(y_val == y_val_pred)\n",
    "        results[(alpha, lamba)] = np.mean(y_train == y_train_pred), val_acc\n",
    "        if best_val < val_acc:\n",
    "            best_softmax = softmax\n",
    "            best_val = val_acc\n",
    "\n",
    "# *****END OF YOUR CODE (DO NOT DELETE/MODIFY THIS LINE)*****\n",
    "    \n",
    "# Print out results.\n",
    "for lr, reg in sorted(results):\n",
    "    train_accuracy, val_accuracy = results[(lr, reg)]\n",
    "    print('lr %e reg %e train accuracy: %f val accuracy: %f' % (\n",
    "                lr, reg, train_accuracy, val_accuracy))\n",
    "    \n",
    "print('best validation accuracy achieved during cross-validation: %f' % best_val)"
   ]
  },
  {
   "cell_type": "code",
   "execution_count": 69,
   "metadata": {
    "ExecuteTime": {
     "end_time": "2019-09-27T01:55:26.560563Z",
     "start_time": "2019-09-27T01:55:26.526517Z"
    }
   },
   "outputs": [
    {
     "name": "stdout",
     "output_type": "stream",
     "text": [
      "softmax on raw pixels final test set accuracy: 0.360000\n"
     ]
    }
   ],
   "source": [
    "# evaluate on test set\n",
    "# Evaluate the best softmax on test set\n",
    "y_test_pred = best_softmax.predict(X_test)\n",
    "test_accuracy = np.mean(y_test == y_test_pred)\n",
    "print('softmax on raw pixels final test set accuracy: %f' % (test_accuracy, ))"
   ]
  },
  {
   "cell_type": "markdown",
   "metadata": {
    "tags": [
     "pdf-inline"
    ]
   },
   "source": [
    "**Inline Question 2** - *True or False*\n",
    "\n",
    "Suppose the overall training loss is defined as the sum of the per-datapoint loss over all training examples. It is possible to add a new datapoint to a training set that would leave the SVM loss unchanged, but this is not the case with the Softmax classifier loss.\n",
    "\n",
    "$\\color{blue}{\\textit Your Answer:}$\n",
    "\n",
    "- True\n",
    "\n",
    "$\\color{blue}{\\textit Your Explanation:}$\n",
    "\n",
    "- For linear SVM loss, it is possible when the new datapoint is perfectly classified by our model that the correct class score is higher than all other classes by a number bigger than 1, in which case the loss will be exactly 0\n",
    "\n",
    "- For linear Softmax loss, it is not possible because the loss can never be exactly zero because exponential can not output zero and in consequence $h = \\frac{\\exp{f_i}}{\\sum{\\exp{f_j}}}$ can never be exactly 1 so the loss $-\\log(h)$ can never be exactly zero\n"
   ]
  },
  {
   "cell_type": "code",
   "execution_count": 67,
   "metadata": {
    "ExecuteTime": {
     "end_time": "2019-09-27T01:53:04.454436Z",
     "start_time": "2019-09-27T01:53:04.178382Z"
    }
   },
   "outputs": [
    {
     "data": {
      "image/png": "[encoded data removed]",
      "text/plain": [
       "<Figure size 432x288 with 10 Axes>"
      ]
     },
     "metadata": {},
     "output_type": "display_data"
    }
   ],
   "source": [
    "# Visualize the learned weights for each class\n",
    "w = best_softmax.W[:-1,:] # strip out the bias\n",
    "w = w.reshape(32, 32, 3, 10)\n",
    "\n",
    "w_min, w_max = np.min(w), np.max(w)\n",
    "\n",
    "classes = ['plane', 'car', 'bird', 'cat', 'deer', 'dog', 'frog', 'horse', 'ship', 'truck']\n",
    "for i in range(10):\n",
    "    plt.subplot(2, 5, i + 1)\n",
    "    \n",
    "    # Rescale the weights to be between 0 and 255\n",
    "    wimg = 255.0 * (w[:, :, :, i].squeeze() - w_min) / (w_max - w_min)\n",
    "    plt.imshow(wimg.astype('uint8'))\n",
    "    plt.axis('off')\n",
    "    plt.title(classes[i])"
   ]
  }
 ],
 "metadata": {
  "hide_input": false,
  "kernelspec": {
   "display_name": "Python 3",
   "language": "python",
   "name": "python3"
  },
  "language_info": {
   "codemirror_mode": {
    "name": "ipython",
    "version": 3
   },
   "file_extension": ".py",
   "mimetype": "text/x-python",
   "name": "python",
   "nbconvert_exporter": "python",
   "pygments_lexer": "ipython3",
   "version": "3.6.5"
  },
  "latex_envs": {
   "LaTeX_envs_menu_present": true,
   "autoclose": false,
   "autocomplete": true,
   "bibliofile": "biblio.bib",
   "cite_by": "apalike",
   "current_citInitial": 1,
   "eqLabelWithNumbers": true,
   "eqNumInitial": 1,
   "hotkeys": {
    "equation": "Ctrl-E",
    "itemize": "Ctrl-I"
   },
   "labels_anchors": false,
   "latex_user_defs": false,
   "report_style_numbering": false,
   "user_envs_cfg": false
  },
  "toc": {
   "base_numbering": 1,
   "nav_menu": {},
   "number_sections": true,
   "sideBar": true,
   "skip_h1_title": false,
   "title_cell": "Table of Contents",
   "title_sidebar": "Contents",
   "toc_cell": false,
   "toc_position": {},
   "toc_section_display": true,
   "toc_window_display": false
  },
  "varInspector": {
   "cols": {
    "lenName": 16,
    "lenType": 16,
    "lenVar": 40
   },
   "kernels_config": {
    "python": {
     "delete_cmd_postfix": "",
     "delete_cmd_prefix": "del ",
     "library": "var_list.py",
     "varRefreshCmd": "print(var_dic_list())"
    },
    "r": {
     "delete_cmd_postfix": ") ",
     "delete_cmd_prefix": "rm(",
     "library": "var_list.r",
     "varRefreshCmd": "cat(var_dic_list()) "
    }
   },
   "types_to_exclude": [
    "module",
    "function",
    "builtin_function_or_method",
    "instance",
    "_Feature"
   ],
   "window_display": false
  }
 },
 "nbformat": 4,
 "nbformat_minor": 1
}
